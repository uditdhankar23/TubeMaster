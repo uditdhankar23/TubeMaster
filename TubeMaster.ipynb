{
 "cells": [
  {
   "cell_type": "code",
   "execution_count": 1,
   "id": "7b3bc421",
   "metadata": {},
   "outputs": [
    {
     "name": "stdout",
     "output_type": "stream",
     "text": [
      "Requirement already satisfied: PyAudio in c:\\users\\uditd\\anaconda3\\lib\\site-packages (0.2.11)\n"
     ]
    }
   ],
   "source": [
    "!pip install PyAudio"
   ]
  },
  {
   "cell_type": "code",
   "execution_count": 2,
   "id": "6d58c36f",
   "metadata": {},
   "outputs": [
    {
     "name": "stdout",
     "output_type": "stream",
     "text": [
      "Requirement already satisfied: SpeechRecognition in c:\\users\\uditd\\anaconda3\\lib\\site-packages (3.8.1)\n"
     ]
    }
   ],
   "source": [
    "!pip install SpeechRecognition"
   ]
  },
  {
   "cell_type": "code",
   "execution_count": 3,
   "id": "19df003a",
   "metadata": {
    "scrolled": false
   },
   "outputs": [
    {
     "name": "stdout",
     "output_type": "stream",
     "text": [
      "Requirement already satisfied: pyttsx3 in c:\\users\\uditd\\anaconda3\\lib\\site-packages (2.90)\n",
      "Requirement already satisfied: pypiwin32 in c:\\users\\uditd\\anaconda3\\lib\\site-packages (from pyttsx3) (223)\n",
      "Requirement already satisfied: pywin32 in c:\\users\\uditd\\anaconda3\\lib\\site-packages (from pyttsx3) (302)\n",
      "Requirement already satisfied: comtypes in c:\\users\\uditd\\anaconda3\\lib\\site-packages (from pyttsx3) (1.1.10)\n"
     ]
    }
   ],
   "source": [
    "!pip install pyttsx3"
   ]
  },
  {
   "cell_type": "code",
   "execution_count": 39,
   "id": "6f4af772",
   "metadata": {},
   "outputs": [],
   "source": [
    "import speech_recognition as sr"
   ]
  },
  {
   "cell_type": "code",
   "execution_count": 40,
   "id": "0411fb49",
   "metadata": {},
   "outputs": [],
   "source": [
    "listener  = sr.Recognizer()\n",
    "\n"
   ]
  },
  {
   "cell_type": "markdown",
   "id": "aa1726a6",
   "metadata": {},
   "source": [
    "##  check whether alexa can listen to you or not , return the command as it is if she recognizes"
   ]
  },
  {
   "cell_type": "code",
   "execution_count": 41,
   "id": "2e0cec34",
   "metadata": {
    "scrolled": true
   },
   "outputs": [
    {
     "name": "stdout",
     "output_type": "stream",
     "text": [
      "listening...\n"
     ]
    }
   ],
   "source": [
    "try:\n",
    " with sr.Microphone() as source:\n",
    "    print('listening...')\n",
    "    voice = listener.listen(source)\n",
    "    command = listener.recognize_google(voice)\n",
    "    print(command)\n",
    "except: \n",
    "    pass"
   ]
  },
  {
   "cell_type": "markdown",
   "id": "55232d45",
   "metadata": {},
   "source": [
    "##  if you mention 'alexxa' in the command  then only you will se the output , else no ouput "
   ]
  },
  {
   "cell_type": "code",
   "execution_count": 10,
   "id": "b55bdd48",
   "metadata": {},
   "outputs": [
    {
     "name": "stdout",
     "output_type": "stream",
     "text": [
      "listening...\n"
     ]
    }
   ],
   "source": [
    "try:\n",
    " with sr.Microphone() as source:\n",
    "    print('listening...')\n",
    "    voice = listener.listen(source)\n",
    "    command = listener.recognize_google(voice)\n",
    "    command  = command.lower()\n",
    "    if 'alexa' in command:\n",
    "        print(command)\n",
    "    \n",
    "except: \n",
    "    pass"
   ]
  },
  {
   "cell_type": "markdown",
   "id": "bd26fc6b",
   "metadata": {},
   "source": [
    "##  talk to me \n",
    "using package pyttsx3 "
   ]
  },
  {
   "cell_type": "code",
   "execution_count": 42,
   "id": "ca61e90a",
   "metadata": {},
   "outputs": [],
   "source": [
    "import pyttsx3\n",
    "engine = pyttsx3.init()\n"
   ]
  },
  {
   "cell_type": "code",
   "execution_count": 44,
   "id": "ae4921b4",
   "metadata": {},
   "outputs": [
    {
     "name": "stdout",
     "output_type": "stream",
     "text": [
      "listening...\n",
      "do nothing alexa\n"
     ]
    }
   ],
   "source": [
    "engine.say('i am your alexa')\n",
    "engine.say('what can i do for you? ')\n",
    "engine.runAndWait()\n",
    "\n",
    "try:\n",
    " with sr.Microphone() as source:\n",
    "    print('listening...')\n",
    "    voice = listener.listen(source)\n",
    "    command = listener.recognize_google(voice)\n",
    "    command  = command.lower()\n",
    "    if 'alexa' in command:\n",
    "        print(command)\n",
    "    \n",
    "except: \n",
    "    pass"
   ]
  },
  {
   "cell_type": "markdown",
   "id": "f744905c",
   "metadata": {},
   "source": [
    "##  change the voice from male to female\n",
    "\n",
    "getproperty \n",
    "setproperty"
   ]
  },
  {
   "cell_type": "code",
   "execution_count": 17,
   "id": "0c953c59",
   "metadata": {},
   "outputs": [
    {
     "name": "stdout",
     "output_type": "stream",
     "text": [
      "listening...\n",
      "i want a female voice alexa\n"
     ]
    }
   ],
   "source": [
    "voices = engine.getProperty('voices')\n",
    "engine.setProperty('voices',voices[1].id)\n",
    "\n",
    "\n",
    "engine.say('i am your alexa')\n",
    "engine.say('what can i do for you? ')\n",
    "engine.runAndWait()\n",
    "\n",
    "try:\n",
    " with sr.Microphone() as source:\n",
    "    print('listening...')\n",
    "    voice = listener.listen(source)\n",
    "    command = listener.recognize_google(voice)\n",
    "    command  = command.lower()\n",
    "    if 'alexa' in command:\n",
    "        print(command)\n",
    "    \n",
    "except: \n",
    "    pass"
   ]
  },
  {
   "cell_type": "markdown",
   "id": "00ceaf2a",
   "metadata": {},
   "source": [
    "##  pass function to say now , not printing "
   ]
  },
  {
   "cell_type": "code",
   "execution_count": 45,
   "id": "746077a8",
   "metadata": {},
   "outputs": [
    {
     "name": "stdout",
     "output_type": "stream",
     "text": [
      "listening...\n"
     ]
    }
   ],
   "source": [
    "def talk(text):\n",
    "    engine.say(text)\n",
    "    engine.runAndWait()\n",
    "    \n",
    "try:\n",
    " with sr.Microphone() as source:\n",
    "    print('listening...')\n",
    "    voice = listener.listen(source)\n",
    "    command = listener.recognize_google(voice)\n",
    "    command  = command.lower()\n",
    "    if 'alexa' in command:\n",
    "        talk(command)\n",
    "    \n",
    "except: \n",
    "    pass"
   ]
  },
  {
   "cell_type": "code",
   "execution_count": 46,
   "id": "35f5b307",
   "metadata": {},
   "outputs": [],
   "source": [
    "def take_command():\n",
    "    try:\n",
    "        \n",
    "        with sr.Microphone() as source:\n",
    "            print('listening...')\n",
    "            voice = listener.listen(source)\n",
    "            command = listener.recognize_google(voice)\n",
    "            command  = command.lower()\n",
    "            if 'alexa' in command:\n",
    "                command  = command.replace('alexa','')     # searching arianda grande song, no significane of alexa here\n",
    "                print(command)\n",
    "    \n",
    "    except: \n",
    "        pass\n",
    "    \n",
    "    return command"
   ]
  },
  {
   "cell_type": "markdown",
   "id": "ad51f57b",
   "metadata": {},
   "source": [
    "##  now do some work"
   ]
  },
  {
   "cell_type": "code",
   "execution_count": 24,
   "id": "ce34993c",
   "metadata": {},
   "outputs": [
    {
     "name": "stdout",
     "output_type": "stream",
     "text": [
      "listening...\n",
      " play justin bieber play justin bieber\n",
      " play justin bieber play justin bieber\n",
      "playing\n"
     ]
    }
   ],
   "source": [
    "def run_alexa():\n",
    "    command = take_command()     # call the function and take the comman\n",
    "    print(command)\n",
    "    if 'play' in command:\n",
    "        talk('playing')\n",
    "        print('playing')\n",
    "        \n",
    "        \n",
    "run_alexa()\n",
    "\n",
    "# alexa removed from output"
   ]
  },
  {
   "cell_type": "code",
   "execution_count": 25,
   "id": "72a70280",
   "metadata": {},
   "outputs": [
    {
     "name": "stdout",
     "output_type": "stream",
     "text": [
      "listening...\n",
      "play something\n",
      " something\n"
     ]
    }
   ],
   "source": [
    "def run_alexa():\n",
    "    command = take_command()     # call the function and take the comman\n",
    "    print(command)\n",
    "    if 'play' in command:\n",
    "        song = command.replace('play','')       # remove the word play\n",
    "        talk('playing' + song)\n",
    "        print(song)\n",
    "        \n",
    "        \n",
    "run_alexa()\n",
    "\n",
    "# play word also removed removed from output"
   ]
  },
  {
   "cell_type": "code",
   "execution_count": 26,
   "id": "cf22d0d0",
   "metadata": {},
   "outputs": [
    {
     "name": "stdout",
     "output_type": "stream",
     "text": [
      "Collecting pywhatkit\n",
      "  Downloading pywhatkit-5.4-py3-none-any.whl (15 kB)\n",
      "Requirement already satisfied: Flask in c:\\users\\uditd\\anaconda3\\lib\\site-packages (from pywhatkit) (1.1.2)\n",
      "Requirement already satisfied: requests in c:\\users\\uditd\\anaconda3\\lib\\site-packages (from pywhatkit) (2.27.1)\n",
      "Requirement already satisfied: wikipedia in c:\\users\\uditd\\anaconda3\\lib\\site-packages (from pywhatkit) (1.4.0)\n",
      "Requirement already satisfied: Pillow in c:\\users\\uditd\\anaconda3\\lib\\site-packages (from pywhatkit) (9.0.1)\n",
      "Collecting pyautogui\n",
      "  Downloading PyAutoGUI-0.9.54.tar.gz (61 kB)\n",
      "  Installing build dependencies: started\n",
      "  Installing build dependencies: finished with status 'done'\n",
      "  Getting requirements to build wheel: started\n",
      "  Getting requirements to build wheel: finished with status 'done'\n",
      "    Preparing wheel metadata: started\n",
      "    Preparing wheel metadata: finished with status 'done'\n",
      "Requirement already satisfied: click>=5.1 in c:\\users\\uditd\\anaconda3\\lib\\site-packages (from Flask->pywhatkit) (8.0.4)\n",
      "Requirement already satisfied: Werkzeug>=0.15 in c:\\users\\uditd\\anaconda3\\lib\\site-packages (from Flask->pywhatkit) (2.0.3)\n",
      "Requirement already satisfied: itsdangerous>=0.24 in c:\\users\\uditd\\anaconda3\\lib\\site-packages (from Flask->pywhatkit) (2.0.1)\n",
      "Requirement already satisfied: Jinja2>=2.10.1 in c:\\users\\uditd\\anaconda3\\lib\\site-packages (from Flask->pywhatkit) (2.11.3)\n",
      "Requirement already satisfied: colorama in c:\\users\\uditd\\anaconda3\\lib\\site-packages (from click>=5.1->Flask->pywhatkit) (0.4.4)\n",
      "Requirement already satisfied: MarkupSafe>=0.23 in c:\\users\\uditd\\anaconda3\\lib\\site-packages (from Jinja2>=2.10.1->Flask->pywhatkit) (2.0.1)\n",
      "Collecting pyscreeze>=0.1.21\n",
      "  Downloading PyScreeze-0.1.29.tar.gz (25 kB)\n",
      "  Installing build dependencies: started\n",
      "  Installing build dependencies: finished with status 'done'\n",
      "  Getting requirements to build wheel: started\n",
      "  Getting requirements to build wheel: finished with status 'done'\n",
      "    Preparing wheel metadata: started\n",
      "    Preparing wheel metadata: finished with status 'done'\n",
      "Collecting pymsgbox\n",
      "  Downloading PyMsgBox-1.0.9.tar.gz (18 kB)\n",
      "  Installing build dependencies: started\n",
      "  Installing build dependencies: finished with status 'done'\n",
      "  Getting requirements to build wheel: started\n",
      "  Getting requirements to build wheel: finished with status 'done'\n",
      "    Preparing wheel metadata: started\n",
      "    Preparing wheel metadata: finished with status 'done'\n",
      "Collecting pytweening>=1.0.4\n",
      "  Downloading pytweening-1.0.7.tar.gz (168 kB)\n",
      "Collecting mouseinfo\n",
      "  Downloading MouseInfo-0.1.3.tar.gz (10 kB)\n",
      "Collecting pygetwindow>=0.0.5\n",
      "  Downloading PyGetWindow-0.0.9.tar.gz (9.7 kB)\n",
      "Collecting pyrect\n",
      "  Downloading PyRect-0.2.0.tar.gz (17 kB)\n",
      "Collecting Pillow\n",
      "  Downloading Pillow-10.0.0-cp39-cp39-win_amd64.whl (2.5 MB)\n",
      "Collecting pyscreenshot\n",
      "  Downloading pyscreenshot-3.1-py3-none-any.whl (28 kB)\n",
      "Collecting pyperclip\n",
      "  Downloading pyperclip-1.8.2.tar.gz (20 kB)\n",
      "Collecting mss\n",
      "  Downloading mss-9.0.1-py3-none-any.whl (22 kB)\n",
      "Collecting EasyProcess\n",
      "  Downloading EasyProcess-1.1-py3-none-any.whl (8.7 kB)\n",
      "Collecting entrypoint2\n",
      "  Downloading entrypoint2-1.1-py2.py3-none-any.whl (9.9 kB)\n",
      "Requirement already satisfied: charset-normalizer~=2.0.0 in c:\\users\\uditd\\anaconda3\\lib\\site-packages (from requests->pywhatkit) (2.0.4)\n",
      "Requirement already satisfied: certifi>=2017.4.17 in c:\\users\\uditd\\anaconda3\\lib\\site-packages (from requests->pywhatkit) (2021.10.8)\n",
      "Requirement already satisfied: idna<4,>=2.5 in c:\\users\\uditd\\anaconda3\\lib\\site-packages (from requests->pywhatkit) (3.3)\n",
      "Requirement already satisfied: urllib3<1.27,>=1.21.1 in c:\\users\\uditd\\anaconda3\\lib\\site-packages (from requests->pywhatkit) (1.26.9)\n",
      "Requirement already satisfied: beautifulsoup4 in c:\\users\\uditd\\anaconda3\\lib\\site-packages (from wikipedia->pywhatkit) (4.11.1)\n",
      "Requirement already satisfied: soupsieve>1.2 in c:\\users\\uditd\\anaconda3\\lib\\site-packages (from beautifulsoup4->wikipedia->pywhatkit) (2.3.1)\n",
      "Building wheels for collected packages: pyautogui, pygetwindow, pyscreeze, pytweening, mouseinfo, pymsgbox, pyperclip, pyrect\n",
      "  Building wheel for pyautogui (PEP 517): started\n",
      "  Building wheel for pyautogui (PEP 517): finished with status 'done'\n",
      "  Created wheel for pyautogui: filename=PyAutoGUI-0.9.54-py3-none-any.whl size=37601 sha256=ec1beace315144891b2cc56e3b38985a6c569ff81448776a494c1cdb3b2598b1\n",
      "  Stored in directory: c:\\users\\uditd\\appdata\\local\\pip\\cache\\wheels\\29\\2b\\5f\\9df8525a15d14d1a3ba04fe66e5bd3d2dc8ca7f5fb2ab2ec50\n",
      "  Building wheel for pygetwindow (setup.py): started\n",
      "  Building wheel for pygetwindow (setup.py): finished with status 'done'\n",
      "  Created wheel for pygetwindow: filename=PyGetWindow-0.0.9-py3-none-any.whl size=11081 sha256=33f56c3b3630250d3e968686ebdf595f1b483e8cd0c125ac15dddd0343349558\n",
      "  Stored in directory: c:\\users\\uditd\\appdata\\local\\pip\\cache\\wheels\\44\\ab\\20\\423c3a444793767e4e41f8377bc902f77bee212e68dcce85a5\n",
      "  Building wheel for pyscreeze (PEP 517): started\n",
      "  Building wheel for pyscreeze (PEP 517): finished with status 'done'\n",
      "  Created wheel for pyscreeze: filename=PyScreeze-0.1.29-py3-none-any.whl size=13485 sha256=0da4aa1b18d294a706762477aa78d8f7e4c5299fb4a466884f23990ed7a4bde0\n",
      "  Stored in directory: c:\\users\\uditd\\appdata\\local\\pip\\cache\\wheels\\ed\\f7\\a9\\cbb6e0cc3bcec306b5778375f69ccd0ac53f4061f28a487e3b\n",
      "  Building wheel for pytweening (setup.py): started\n",
      "  Building wheel for pytweening (setup.py): finished with status 'done'\n",
      "  Created wheel for pytweening: filename=pytweening-1.0.7-py3-none-any.whl size=6215 sha256=66935a5eee021dcaf6430e6ca981c9d6a3c9fdb6a249b2a627ae4379f8f408c7\n",
      "  Stored in directory: c:\\users\\uditd\\appdata\\local\\pip\\cache\\wheels\\d1\\d6\\29\\c2adb2c73f3e9ac2486786fe1f16e8036bd062205303e1ed6a\n",
      "  Building wheel for mouseinfo (setup.py): started\n",
      "  Building wheel for mouseinfo (setup.py): finished with status 'done'\n",
      "  Created wheel for mouseinfo: filename=MouseInfo-0.1.3-py3-none-any.whl size=10906 sha256=7aa03029e5eff3502a13532f633c49ddf96936f9ac3dbbea872fbfb731c3d2ed\n",
      "  Stored in directory: c:\\users\\uditd\\appdata\\local\\pip\\cache\\wheels\\61\\73\\b9\\6fb1131ab36e650206e3aa0ad7a68907b41b32ac2d4f75f543\n",
      "  Building wheel for pymsgbox (PEP 517): started\n",
      "  Building wheel for pymsgbox (PEP 517): finished with status 'done'\n",
      "  Created wheel for pymsgbox: filename=PyMsgBox-1.0.9-py3-none-any.whl size=7417 sha256=d7915d737c8c75f96440fca59dea069a35349f7575ecc95e1918b426e0ccd738\n",
      "  Stored in directory: c:\\users\\uditd\\appdata\\local\\pip\\cache\\wheels\\7f\\13\\8c\\584c519464297d9637f9cd29fd1dcdf55e2a2cab225c76a2db\n",
      "  Building wheel for pyperclip (setup.py): started\n",
      "  Building wheel for pyperclip (setup.py): finished with status 'done'\n",
      "  Created wheel for pyperclip: filename=pyperclip-1.8.2-py3-none-any.whl size=11137 sha256=ffbf16a77e512c4860e572282ec5b66e8bb45f6760c719ad730114add8842d3b\n",
      "  Stored in directory: c:\\users\\uditd\\appdata\\local\\pip\\cache\\wheels\\0c\\09\\9e\\49e21a6840ef7955b06d47394afef0058f0378c0914e48b8b8\n",
      "  Building wheel for pyrect (setup.py): started\n",
      "  Building wheel for pyrect (setup.py): finished with status 'done'\n",
      "  Created wheel for pyrect: filename=PyRect-0.2.0-py2.py3-none-any.whl size=11196 sha256=b58f7ac772a96ecb15bdcc86e5a903c6411a5d1ea4acddfcba266f96dbc37300\n",
      "  Stored in directory: c:\\users\\uditd\\appdata\\local\\pip\\cache\\wheels\\25\\80\\fa\\27bb4a1c2e21f64ec71390489d52e57b7cc8afbe79bd595c5e\n",
      "Successfully built pyautogui pygetwindow pyscreeze pytweening mouseinfo pymsgbox pyperclip pyrect\n",
      "Installing collected packages: mss, entrypoint2, EasyProcess, pyscreenshot, pyrect, pyperclip, Pillow, pytweening, pyscreeze, pymsgbox, pygetwindow, mouseinfo, pyautogui, pywhatkit\n",
      "  Attempting uninstall: Pillow\n",
      "    Found existing installation: Pillow 9.0.1\n",
      "    Uninstalling Pillow-9.0.1:\n",
      "      Successfully uninstalled Pillow-9.0.1\n",
      "Successfully installed EasyProcess-1.1 Pillow-10.0.0 entrypoint2-1.1 mouseinfo-0.1.3 mss-9.0.1 pyautogui-0.9.54 pygetwindow-0.0.9 pymsgbox-1.0.9 pyperclip-1.8.2 pyrect-0.2.0 pyscreenshot-3.1 pyscreeze-0.1.29 pytweening-1.0.7 pywhatkit-5.4\n"
     ]
    }
   ],
   "source": [
    "!pip install pywhatkit"
   ]
  },
  {
   "cell_type": "code",
   "execution_count": 47,
   "id": "844d7466",
   "metadata": {},
   "outputs": [],
   "source": [
    "import pywhatkit"
   ]
  },
  {
   "cell_type": "markdown",
   "id": "aa867ba9",
   "metadata": {},
   "source": [
    "##  playing a song on youtube"
   ]
  },
  {
   "cell_type": "code",
   "execution_count": 48,
   "id": "f6fe6374",
   "metadata": {
    "scrolled": true
   },
   "outputs": [
    {
     "name": "stdout",
     "output_type": "stream",
     "text": [
      "listening...\n",
      "play system pe system\n"
     ]
    }
   ],
   "source": [
    "def run_alexa():\n",
    "    command = take_command()     # call the function and take the comman\n",
    "    print(command)\n",
    "    if 'play' in command:\n",
    "        song = command.replace('play','')       # remove the word play\n",
    "        talk('playing' + song)\n",
    "        pywhatkit.playonyt(song)                # play a song on youtube\n",
    "        \n",
    "        \n",
    "run_alexa()\n"
   ]
  },
  {
   "cell_type": "markdown",
   "id": "c941b908",
   "metadata": {},
   "source": [
    "##   display the time"
   ]
  },
  {
   "cell_type": "code",
   "execution_count": 32,
   "id": "524777b4",
   "metadata": {},
   "outputs": [
    {
     "name": "stdout",
     "output_type": "stream",
     "text": [
      "Requirement already satisfied: datetime in c:\\users\\uditd\\anaconda3\\lib\\site-packages (4.5)\n",
      "Requirement already satisfied: pytz in c:\\users\\uditd\\anaconda3\\lib\\site-packages (from datetime) (2021.3)\n",
      "Requirement already satisfied: zope.interface in c:\\users\\uditd\\anaconda3\\lib\\site-packages (from datetime) (5.4.0)\n",
      "Requirement already satisfied: setuptools in c:\\users\\uditd\\anaconda3\\lib\\site-packages (from zope.interface->datetime) (61.2.0)\n"
     ]
    }
   ],
   "source": [
    "!pip install datetime"
   ]
  },
  {
   "cell_type": "code",
   "execution_count": 49,
   "id": "5ce69a76",
   "metadata": {},
   "outputs": [],
   "source": [
    "import datetime"
   ]
  },
  {
   "cell_type": "markdown",
   "id": "a441c035",
   "metadata": {},
   "source": [
    "##  date and time"
   ]
  },
  {
   "cell_type": "code",
   "execution_count": null,
   "id": "82347381",
   "metadata": {},
   "outputs": [],
   "source": [
    "def run_alexa():\n",
    "    command = take_command()     # call the function and take the comman\n",
    "    print(command)\n",
    "    if 'play' in command:\n",
    "        song = command.replace('play','')       # remove the word play\n",
    "        talk('playing' + song)\n",
    "        pywhatkit.playonyt(song)                # play a song on youtube\n",
    "    \n",
    "    elif 'time' in command:\n",
    "        time = datetime.datetime.now().strftime('%H:%M %p')    # hour minute am/pm\n",
    "        \n",
    "run_alexa()"
   ]
  },
  {
   "cell_type": "code",
   "execution_count": 50,
   "id": "22921e1e",
   "metadata": {},
   "outputs": [
    {
     "name": "stdout",
     "output_type": "stream",
     "text": [
      "Requirement already satisfied: wikipedia in c:\\users\\uditd\\anaconda3\\lib\\site-packages (1.4.0)\n",
      "Requirement already satisfied: beautifulsoup4 in c:\\users\\uditd\\anaconda3\\lib\\site-packages (from wikipedia) (4.11.1)\n",
      "Requirement already satisfied: requests<3.0.0,>=2.0.0 in c:\\users\\uditd\\anaconda3\\lib\\site-packages (from wikipedia) (2.27.1)\n",
      "Requirement already satisfied: certifi>=2017.4.17 in c:\\users\\uditd\\anaconda3\\lib\\site-packages (from requests<3.0.0,>=2.0.0->wikipedia) (2021.10.8)\n",
      "Requirement already satisfied: urllib3<1.27,>=1.21.1 in c:\\users\\uditd\\anaconda3\\lib\\site-packages (from requests<3.0.0,>=2.0.0->wikipedia) (1.26.9)\n",
      "Requirement already satisfied: charset-normalizer~=2.0.0 in c:\\users\\uditd\\anaconda3\\lib\\site-packages (from requests<3.0.0,>=2.0.0->wikipedia) (2.0.4)\n",
      "Requirement already satisfied: idna<4,>=2.5 in c:\\users\\uditd\\anaconda3\\lib\\site-packages (from requests<3.0.0,>=2.0.0->wikipedia) (3.3)\n",
      "Requirement already satisfied: soupsieve>1.2 in c:\\users\\uditd\\anaconda3\\lib\\site-packages (from beautifulsoup4->wikipedia) (2.3.1)\n"
     ]
    }
   ],
   "source": [
    "!pip install wikipedia"
   ]
  },
  {
   "cell_type": "code",
   "execution_count": null,
   "id": "3b7aa37b",
   "metadata": {},
   "outputs": [],
   "source": [
    "import wikipedia"
   ]
  },
  {
   "cell_type": "code",
   "execution_count": null,
   "id": "4e75322b",
   "metadata": {},
   "outputs": [],
   "source": [
    "def run_alexa():\n",
    "    command = take_command()     # call the function and take the comman\n",
    "    print(command)\n",
    "    \n",
    "    if 'play' in command:\n",
    "        song = command.replace('play','')       # remove the word play\n",
    "        talk('playing' + song)\n",
    "        pywhatkit.playonyt(song)                # play a song on youtube\n",
    "    \n",
    "    \n",
    "    elif 'time' in command:\n",
    "        time = datetime.datetime.now().strftime('%H:%M %p')    # hour minute am/pm\n",
    "        talk('current time is' + time)\n",
    "        \n",
    "        \n",
    "    elif 'who is' in command:\n",
    "        person = command.replace('who is','')\n",
    "        info = wikipedia.summary(person,1)                   # 1 line \n",
    "        print(info)\n",
    "        talk(info)\n",
    "        \n",
    "run_alexa()"
   ]
  },
  {
   "cell_type": "code",
   "execution_count": 51,
   "id": "96785070",
   "metadata": {},
   "outputs": [
    {
     "name": "stdout",
     "output_type": "stream",
     "text": [
      "Collecting pyjokes\n",
      "  Downloading pyjokes-0.6.0-py2.py3-none-any.whl (26 kB)\n",
      "Installing collected packages: pyjokes\n",
      "Successfully installed pyjokes-0.6.0\n"
     ]
    }
   ],
   "source": [
    "!pip install pyjokes"
   ]
  },
  {
   "cell_type": "code",
   "execution_count": 52,
   "id": "c79fd220",
   "metadata": {},
   "outputs": [],
   "source": [
    "import pyjokes"
   ]
  },
  {
   "cell_type": "code",
   "execution_count": 53,
   "id": "ac82a837",
   "metadata": {},
   "outputs": [
    {
     "name": "stdout",
     "output_type": "stream",
     "text": [
      "listening...\n",
      " give me a joke\n",
      " give me a joke\n"
     ]
    }
   ],
   "source": [
    "def run_alexa():\n",
    "    command = take_command()     # call the function and take the comman\n",
    "    print(command)\n",
    "    \n",
    "    if 'play' in command:\n",
    "        song = command.replace('play','')       # remove the word play\n",
    "        talk('playing' + song)\n",
    "        pywhatkit.playonyt(song)                # play a song on youtube\n",
    "    \n",
    "    \n",
    "    elif 'time' in command:\n",
    "        time = datetime.datetime.now().strftime('%H:%M %p')    # hour minute am/pm\n",
    "        talk('current time is' + time)\n",
    "        \n",
    "        \n",
    "    elif 'who is' in command:\n",
    "        person = command.replace('who is','')\n",
    "        info = wikipedia.summary(person,1)                   # 1 line \n",
    "        print(info)\n",
    "        talk(info)\n",
    "    \n",
    "    elif 'joke' in command:\n",
    "        talk(pyjokes.get_joke())\n",
    "        \n",
    "    else:\n",
    "        talk(' please give the command again ')\n",
    "        \n",
    "run_alexa()"
   ]
  },
  {
   "cell_type": "code",
   "execution_count": null,
   "id": "9ed1831d",
   "metadata": {},
   "outputs": [],
   "source": []
  }
 ],
 "metadata": {
  "kernelspec": {
   "display_name": "Python 3 (ipykernel)",
   "language": "python",
   "name": "python3"
  },
  "language_info": {
   "codemirror_mode": {
    "name": "ipython",
    "version": 3
   },
   "file_extension": ".py",
   "mimetype": "text/x-python",
   "name": "python",
   "nbconvert_exporter": "python",
   "pygments_lexer": "ipython3",
   "version": "3.9.12"
  }
 },
 "nbformat": 4,
 "nbformat_minor": 5
}
